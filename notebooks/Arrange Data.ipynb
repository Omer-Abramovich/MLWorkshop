{
 "cells": [
  {
   "cell_type": "code",
   "execution_count": 6,
   "metadata": {},
   "outputs": [],
   "source": [
    "import os\n",
    "from pathlib import Path"
   ]
  },
  {
   "cell_type": "code",
   "execution_count": 23,
   "metadata": {},
   "outputs": [],
   "source": [
    "from shutil import copyfile"
   ]
  },
  {
   "cell_type": "code",
   "execution_count": 14,
   "metadata": {},
   "outputs": [],
   "source": [
    "s2l = {1 : 611,\n",
    "    3 : 3447,\n",
    "    5 : 409,\n",
    "    7 : 2529,\n",
    "    9 : 2730,\n",
    "    11 : 2831,\n",
    "    13 : 3548,\n",
    "    15 : 3750,\n",
    "    17 : 4051,\n",
    "    19 : 3649,\n",
    "    21 : 4555,\n",
    "    23 : 6267,\n",
    "    25 : 6569,\n",
    "    27 : 6064,\n",
    "    29 : 6166,\n",
    "    31 : 4656,\n",
    "    33 : 7275,\n",
    "    35 : 5458,\n",
    "    37 : 7477,\n",
    "    39 : 7678}\n",
    "l2s = {}\n",
    "\n",
    "for s in s2l:\n",
    "    l2s[s2l[s]] = (s+1)/2"
   ]
  },
  {
   "cell_type": "code",
   "execution_count": 15,
   "metadata": {},
   "outputs": [
    {
     "data": {
      "text/plain": [
       "{611: 1.0,\n",
       " 3447: 2.0,\n",
       " 409: 3.0,\n",
       " 2529: 4.0,\n",
       " 2730: 5.0,\n",
       " 2831: 6.0,\n",
       " 3548: 7.0,\n",
       " 3750: 8.0,\n",
       " 4051: 9.0,\n",
       " 3649: 10.0,\n",
       " 4555: 11.0,\n",
       " 6267: 12.0,\n",
       " 6569: 13.0,\n",
       " 6064: 14.0,\n",
       " 6166: 15.0,\n",
       " 4656: 16.0,\n",
       " 7275: 17.0,\n",
       " 5458: 18.0,\n",
       " 7477: 19.0,\n",
       " 7678: 20.0}"
      ]
     },
     "execution_count": 15,
     "metadata": {},
     "output_type": "execute_result"
    }
   ],
   "source": [
    "l2s"
   ]
  },
  {
   "cell_type": "code",
   "execution_count": 27,
   "metadata": {},
   "outputs": [],
   "source": [
    "for path in Path('/data/ml_workshop_raw').glob('**/*.mp4'):\n",
    "    filename = str(path).split('/')[-1]\n",
    "    parts = filename.split(' ')\n",
    "    if parts[0] == 'sub':\n",
    "        sub_no_long = int(parts[1])\n",
    "        sub_no = l2s[sub_no_long]\n",
    "        age = parts[2]\n",
    "        episode = int(''.join(c for c in parts[3] if c.isdigit()))\n",
    "        parent = 'adult' in filename or 'doll' in filename\n",
    "        infant = 'infant' in filename \n",
    "        #print(filename,sub_no,age,episode,parent,infant)\n",
    "        if infant:\n",
    "            copyfile(path, '/data/ml_workshop_processed/episode_'+str(episode)+'/Subject_'+str(int(sub_no))+'/'+age+'/Infant/source.mp4')\n",
    "        if parent:\n",
    "            copyfile(path, '/data/ml_workshop_processed/episode_'+str(episode)+'/Subject_'+str(int(sub_no))+'/'+age+'/Parent/source.mp4')"
   ]
  },
  {
   "cell_type": "code",
   "execution_count": 1,
   "metadata": {},
   "outputs": [
    {
     "ename": "NameError",
     "evalue": "name 'counts' is not defined",
     "output_type": "error",
     "traceback": [
      "\u001b[0;31m---------------------------------------------------------------------------\u001b[0m",
      "\u001b[0;31mNameError\u001b[0m                                 Traceback (most recent call last)",
      "\u001b[0;32m<ipython-input-1-dfba68d1f5ec>\u001b[0m in \u001b[0;36m<module>\u001b[0;34m\u001b[0m\n\u001b[0;32m----> 1\u001b[0;31m \u001b[0mcounts\u001b[0m\u001b[0;34m\u001b[0m\u001b[0m\n\u001b[0m",
      "\u001b[0;31mNameError\u001b[0m: name 'counts' is not defined"
     ]
    }
   ],
   "source": [
    "counts"
   ]
  },
  {
   "cell_type": "code",
   "execution_count": 2,
   "metadata": {},
   "outputs": [
    {
     "ename": "NameError",
     "evalue": "name 'Path' is not defined",
     "output_type": "error",
     "traceback": [
      "\u001b[0;31m---------------------------------------------------------------------------\u001b[0m",
      "\u001b[0;31mNameError\u001b[0m                                 Traceback (most recent call last)",
      "\u001b[0;32m<ipython-input-2-617e4c52d12e>\u001b[0m in \u001b[0;36m<module>\u001b[0;34m\u001b[0m\n\u001b[1;32m      6\u001b[0m         \u001b[0;31m#os.makedirs(pathCreator(i,6,j,\"Parent\"))\u001b[0m\u001b[0;34m\u001b[0m\u001b[0;34m\u001b[0m\u001b[0m\n\u001b[1;32m      7\u001b[0m \u001b[0;34m\u001b[0m\u001b[0m\n\u001b[0;32m----> 8\u001b[0;31m \u001b[0;32mfor\u001b[0m \u001b[0mpath\u001b[0m \u001b[0;32min\u001b[0m \u001b[0mPath\u001b[0m\u001b[0;34m(\u001b[0m\u001b[0;34m'/data/ml_workshop_processed'\u001b[0m\u001b[0;34m)\u001b[0m\u001b[0;34m.\u001b[0m\u001b[0mglob\u001b[0m\u001b[0;34m(\u001b[0m\u001b[0;34m'**/*.mp4'\u001b[0m\u001b[0;34m)\u001b[0m\u001b[0;34m:\u001b[0m\u001b[0;34m\u001b[0m\u001b[0m\n\u001b[0m\u001b[1;32m      9\u001b[0m     \u001b[0mpath_str\u001b[0m\u001b[0;34m=\u001b[0m\u001b[0mstr\u001b[0m\u001b[0;34m(\u001b[0m\u001b[0mpath\u001b[0m\u001b[0;34m)\u001b[0m\u001b[0;34m\u001b[0m\u001b[0m\n\u001b[1;32m     10\u001b[0m     \u001b[0mdirPath\u001b[0m \u001b[0;34m=\u001b[0m \u001b[0;34m'/'\u001b[0m\u001b[0;34m.\u001b[0m\u001b[0mjoin\u001b[0m\u001b[0;34m(\u001b[0m\u001b[0mpath_str\u001b[0m\u001b[0;34m.\u001b[0m\u001b[0msplit\u001b[0m\u001b[0;34m(\u001b[0m\u001b[0;34m'/'\u001b[0m\u001b[0;34m)\u001b[0m\u001b[0;34m[\u001b[0m\u001b[0;34m:\u001b[0m\u001b[0;34m-\u001b[0m\u001b[0;36m1\u001b[0m\u001b[0;34m]\u001b[0m\u001b[0;34m)\u001b[0m\u001b[0;34m+\u001b[0m\u001b[0;34m\"/Frames\"\u001b[0m\u001b[0;34m\u001b[0m\u001b[0m\n",
      "\u001b[0;31mNameError\u001b[0m: name 'Path' is not defined"
     ]
    }
   ],
   "source": [
    "#for i in range(14,21):\n",
    "    #for j in range(1,7):\n",
    "        #os.makedirs(pathCreator(i,3,j,\"Infant\"))\n",
    "        #os.makedirs(pathCreator(i,6,j,\"Infant\"))\n",
    "        #os.makedirs(pathCreator(i,3,j,\"Parent\"))\n",
    "        #os.makedirs(pathCreator(i,6,j,\"Parent\"))\n",
    "        \n",
    "for path in Path('/data/ml_workshop_processed').glob('**/*.mp4'):\n",
    "    path_str=str(path)\n",
    "    dirPath = '/'.join(path_str.split('/')[:-1])+\"/Frames\"\n",
    "    try:\n",
    "        os.makedirs(dirPath)\n",
    "    except FileExistsError:\n",
    "        pass\n",
    "    "
   ]
  },
  {
   "cell_type": "code",
   "execution_count": null,
   "metadata": {},
   "outputs": [],
   "source": [
    "#creates path to relavant dir\n",
    "def pathCreator(subjectNum, monthNum, episodeNum, infantOrParent):\n",
    "    return  (\"/data/ml_workshop_processed/episode_\" + str(episodeNum)+\"/Subject_\"+str(subjectNum) + \"/\" + str(monthNum) + \"m/\"+infantOrParent+\"/\")"
   ]
  }
 ],
 "metadata": {
  "kernelspec": {
   "display_name": "Python 3",
   "language": "python",
   "name": "python3"
  },
  "language_info": {
   "codemirror_mode": {
    "name": "ipython",
    "version": 3
   },
   "file_extension": ".py",
   "mimetype": "text/x-python",
   "name": "python",
   "nbconvert_exporter": "python",
   "pygments_lexer": "ipython3",
   "version": "3.7.0"
  }
 },
 "nbformat": 4,
 "nbformat_minor": 2
}
