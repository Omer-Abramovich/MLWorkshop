{
 "cells": [
  {
   "cell_type": "code",
   "execution_count": 1,
   "metadata": {},
   "outputs": [],
   "source": [
    "import torch as torch\n",
    "import cv2 as cv\n",
    "import numpy as np\n",
    "from pathlib import Path"
   ]
  },
  {
   "cell_type": "code",
   "execution_count": 2,
   "metadata": {},
   "outputs": [
    {
     "ename": "error",
     "evalue": "OpenCV(4.1.0) /io/opencv/modules/imgproc/src/resize.cpp:3718: error: (-215:Assertion failed) !ssize.empty() in function 'resize'\n",
     "output_type": "error",
     "traceback": [
      "\u001b[0;31m---------------------------------------------------------------------------\u001b[0m",
      "\u001b[0;31merror\u001b[0m                                     Traceback (most recent call last)",
      "\u001b[0;32m<ipython-input-2-334bd29a6aef>\u001b[0m in \u001b[0;36m<module>\u001b[0;34m\u001b[0m\n\u001b[1;32m     11\u001b[0m     \u001b[0;31m# Capture frame-by-frame\u001b[0m\u001b[0;34m\u001b[0m\u001b[0;34m\u001b[0m\u001b[0m\n\u001b[1;32m     12\u001b[0m     \u001b[0mret\u001b[0m\u001b[0;34m,\u001b[0m \u001b[0mframe\u001b[0m \u001b[0;34m=\u001b[0m \u001b[0mcap\u001b[0m\u001b[0;34m.\u001b[0m\u001b[0mread\u001b[0m\u001b[0;34m(\u001b[0m\u001b[0;34m)\u001b[0m\u001b[0;34m\u001b[0m\u001b[0m\n\u001b[0;32m---> 13\u001b[0;31m     \u001b[0mframe\u001b[0m \u001b[0;34m=\u001b[0m \u001b[0mcv\u001b[0m\u001b[0;34m.\u001b[0m\u001b[0mresize\u001b[0m\u001b[0;34m(\u001b[0m\u001b[0mframe\u001b[0m\u001b[0;34m,\u001b[0m \u001b[0;34m(\u001b[0m\u001b[0;36m192\u001b[0m\u001b[0;34m*\u001b[0m\u001b[0;36m3\u001b[0m\u001b[0;34m,\u001b[0m \u001b[0;36m108\u001b[0m\u001b[0;34m*\u001b[0m\u001b[0;36m3\u001b[0m\u001b[0;34m)\u001b[0m\u001b[0;34m)\u001b[0m\u001b[0;34m\u001b[0m\u001b[0m\n\u001b[0m\u001b[1;32m     14\u001b[0m     \u001b[0mframes\u001b[0m\u001b[0;34m.\u001b[0m\u001b[0mappend\u001b[0m\u001b[0;34m(\u001b[0m\u001b[0mframe\u001b[0m\u001b[0;34m)\u001b[0m\u001b[0;34m\u001b[0m\u001b[0m\n\u001b[1;32m     15\u001b[0m \u001b[0;34m\u001b[0m\u001b[0m\n",
      "\u001b[0;31merror\u001b[0m: OpenCV(4.1.0) /io/opencv/modules/imgproc/src/resize.cpp:3718: error: (-215:Assertion failed) !ssize.empty() in function 'resize'\n"
     ]
    }
   ],
   "source": [
    "cv.destroyAllWindows()\n",
    "cap = cv.VideoCapture('sub 2529 3m ep1 - infant .mp4')\n",
    "\n",
    "count = 0\n",
    "\n",
    "sub_num = 3\n",
    "\n",
    "frames = []\n",
    "\n",
    "while(count < 200):\n",
    "    # Capture frame-by-frame\n",
    "    ret, frame = cap.read()\n",
    "    frame = cv.resize(frame, (192*3, 108*3))\n",
    "    frames.append(frame) \n",
    "    \n",
    "    #labels = tensorAllVideos[sub_num][count]\n",
    "    #sm = labels[4].item()\n",
    "    #og = labels[-1].item()\n",
    "    \n",
    "    #if sm:\n",
    "    #    cv.rectangle(frame, (0,0),(100,100),(255,0,0),2)\n",
    "    #if og:\n",
    "    #    cv.rectangle(frame, (100,0),(200,100),(0,255,0),2)\n",
    "    \n",
    "    #cv.imshow('Image', frame)\n",
    "    #k = cv.waitKey(20) & 0xFF\n",
    "    #if k == ord('q'):\n",
    "    #    break\n",
    "    \n",
    "    if not ret:\n",
    "        break\n",
    "    \n",
    "    count+=1\n",
    "# When everything done, release the capture\n",
    "cap.release()\n",
    "cv.destroyAllWindows()"
   ]
  },
  {
   "cell_type": "code",
   "execution_count": 3,
   "metadata": {},
   "outputs": [],
   "source": [
    "count = 0\n",
    "sub_num = 1\n",
    "\n",
    "for frame in frames[150:]:\n",
    "    frame = frame.copy()\n",
    "    labels = tensorAllVideos[sub_num][count]\n",
    "    sm = labels[4].item()\n",
    "    og = labels[-1].item()\n",
    "    \n",
    "    hd = labels[11].item()\n",
    "    \n",
    "    if sm:\n",
    "        cv.rectangle(frame, (0,0),(30,30),(255,0,0),2)\n",
    "    if og:\n",
    "        cv.rectangle(frame, (30,0),(60,30),(0,255,0),2)\n",
    "    if hd:\n",
    "        cv.rectangle(frame, (60,0),(90,30),(0,0,255),2)\n",
    "    \n",
    "    cv.imshow('Image', frame)\n",
    "    k = cv.waitKey(20) & 0xFF\n",
    "    count += 1\n",
    "cv.destroyAllWindows()"
   ]
  },
  {
   "cell_type": "code",
   "execution_count": 4,
   "metadata": {},
   "outputs": [
    {
     "data": {
      "text/plain": [
       "(3700, 0, 0, 3)"
      ]
     },
     "execution_count": 4,
     "metadata": {},
     "output_type": "execute_result"
    }
   ],
   "source": [
    "cap = cv.VideoCapture('sub 2529 3m ep1 - infant .mp4')\n",
    "frameWidth = int(cap.get(cv.CAP_PROP_FRAME_WIDTH))\n",
    "frameHeight = int(cap.get(cv.CAP_PROP_FRAME_HEIGHT))\n",
    "\n",
    "buf = np.empty((3700, frameHeight, frameWidth, 3), np.dtype('uint8'))\n",
    "\n",
    "fc = 0\n",
    "ret = True\n",
    "\n",
    "while ret:\n",
    "    ret, frame = cap.read()\n",
    "    if not ret:\n",
    "        break\n",
    "    buf[fc] = frame\n",
    "    fc += 1\n",
    "\n",
    "cap.release()\n",
    "\n",
    "buf.shape"
   ]
  },
  {
   "cell_type": "code",
   "execution_count": null,
   "metadata": {},
   "outputs": [],
   "source": []
  }
 ],
 "metadata": {
  "kernelspec": {
   "display_name": "Python 3",
   "language": "python",
   "name": "python3"
  },
  "language_info": {
   "codemirror_mode": {
    "name": "ipython",
    "version": 3
   },
   "file_extension": ".py",
   "mimetype": "text/x-python",
   "name": "python",
   "nbconvert_exporter": "python",
   "pygments_lexer": "ipython3",
   "version": "3.7.0"
  }
 },
 "nbformat": 4,
 "nbformat_minor": 2
}
