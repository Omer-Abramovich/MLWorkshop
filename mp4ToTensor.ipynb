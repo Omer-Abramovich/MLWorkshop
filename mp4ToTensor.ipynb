{
 "cells": [
  {
   "cell_type": "code",
   "execution_count": 38,
   "metadata": {},
   "outputs": [],
   "source": [
    "import cv2\n",
    "import numpy as np\n",
    "import torch\n",
    "from moviepy.editor import *\n",
    "import os \n",
    "from pathlib import Path"
   ]
  },
  {
   "cell_type": "code",
   "execution_count": 39,
   "metadata": {},
   "outputs": [],
   "source": [
    "#for each subject (need to change names) takes video from relevant dir and saves it as a tensor in the same dir    \n",
    "for path in Path('/data/ml_workshop_processed').glob('**/*.mp4'):\n",
    "    print (str(path))\n",
    "    saveTensorFromVideo2(str(path),str(path)[:-10])\n",
    "    break"
   ]
  },
  {
   "cell_type": "code",
   "execution_count": 40,
   "metadata": {},
   "outputs": [],
   "source": [
    "def saveTensorFromVideo2(videoPath, savePath):\n",
    "    video = VideoFileClip(path_str)\n",
    "    duration = video.duration # == audio.duration, presented in seconds, float\n",
    "    #note video.fps != audio.fps\n",
    "    step = 1/video.fps\n",
    "    t=0\n",
    "\n",
    "    while (True):\n",
    "        try:\n",
    "            video_frame = video.get_frame(t)\n",
    "        except Error:\n",
    "            print(t)\n",
    "        torch.save(torch.from_numpy(video_frame),savePath+\"/Frames/\"+str(int(round(t/step)))+\".pth\")\n",
    "        \n",
    "        if(int(round(t/step))%10000 == 0):\n",
    "            print (savePath)\n",
    "        t+=step\n",
    "    \n",
    "    \n",
    "    #torch.save(buf,savePath+\"/Frames/\"+str(fc)+\".\")"
   ]
  },
  {
   "cell_type": "code",
   "execution_count": 41,
   "metadata": {},
   "outputs": [],
   "source": [
    "def countFramesManualy(video):\n",
    "    # initialize the total number of frames read\n",
    "    total = 0\n",
    " \n",
    "    # loop over the frames of the video\n",
    "    while True:\n",
    "        # grab the current frame\n",
    "        (grabbed, frame) = video.read()\n",
    "        \n",
    "        # check to see if we have reached the end of the\n",
    "        # video\n",
    "        if not grabbed:\n",
    "            break\n",
    " \n",
    "        # increment the total number of frames read\n",
    "        total += 1\n",
    " \n",
    "    # return the total number of frames in the video file\n",
    "    return total\n",
    "    \n",
    "    "
   ]
  },
  {
   "cell_type": "code",
   "execution_count": null,
   "metadata": {},
   "outputs": [],
   "source": [
    "#loads video to tensor and saves it to path\n",
    "\n",
    "def saveTensorFromVideo(videoPath, savePath):\n",
    "    cap = cv2.VideoCapture(videoPath)\n",
    "    \n",
    "    frameCount = countFramesManualy(cap)\n",
    "    frameWidth = int(cap.get(cv2.CAP_PROP_FRAME_WIDTH))\n",
    "    frameHeight = int(cap.get(cv2.CAP_PROP_FRAME_HEIGHT))\n",
    "\n",
    "    #buf = np.empty((frameCount, frameHeight, frameWidth, 3), np.dtype('uint8'))\n",
    "    buf = np.empty((frameHeight, frameWidth, 3), np.dtype('uint8'));\n",
    "\n",
    "    fc = 0\n",
    "    ret = True\n",
    "\n",
    "    while (fc < frameCount  and ret):\n",
    "        ret, buf = cap.read()\n",
    "        print (ret)\n",
    "        fc += 1\n",
    "        torch.save(torch.from_numpy(buf),savePath+\"/Frames/\"+str(fc)+\".pth\")\n",
    "        if(fc%10000 == 0):\n",
    "            print (savePath)\n",
    "\n",
    "    cap.release()\n",
    "    \n",
    "    #torch.save(buf,savePath+\"/Frames/\"+str(fc)+\".\")\n",
    "    \n",
    "    "
   ]
  },
  {
   "cell_type": "code",
   "execution_count": null,
   "metadata": {},
   "outputs": [],
   "source": []
  },
  {
   "cell_type": "code",
   "execution_count": 1,
   "metadata": {},
   "outputs": [
    {
     "ename": "NameError",
     "evalue": "name 'video_frame' is not defined",
     "output_type": "error",
     "traceback": [
      "\u001b[0;31m---------------------------------------------------------------------------\u001b[0m",
      "\u001b[0;31mNameError\u001b[0m                                 Traceback (most recent call last)",
      "\u001b[0;32m<ipython-input-1-9eb8faf78cdf>\u001b[0m in \u001b[0;36m<module>\u001b[0;34m\u001b[0m\n\u001b[0;32m----> 1\u001b[0;31m \u001b[0mvideo_frame\u001b[0m\u001b[0;34m\u001b[0m\u001b[0m\n\u001b[0m",
      "\u001b[0;31mNameError\u001b[0m: name 'video_frame' is not defined"
     ]
    }
   ],
   "source": []
  },
  {
   "cell_type": "code",
   "execution_count": 2,
   "metadata": {},
   "outputs": [],
   "source": []
  },
  {
   "cell_type": "code",
   "execution_count": 3,
   "metadata": {},
   "outputs": [],
   "source": []
  },
  {
   "cell_type": "code",
   "execution_count": null,
   "metadata": {},
   "outputs": [],
   "source": []
  }
 ],
 "metadata": {
  "kernelspec": {
   "display_name": "Python 3",
   "language": "python",
   "name": "python3"
  },
  "language_info": {
   "codemirror_mode": {
    "name": "ipython",
    "version": 3
   },
   "file_extension": ".py",
   "mimetype": "text/x-python",
   "name": "python",
   "nbconvert_exporter": "python",
   "pygments_lexer": "ipython3",
   "version": "3.7.0"
  }
 },
 "nbformat": 4,
 "nbformat_minor": 2
}
