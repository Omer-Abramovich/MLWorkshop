{
 "cells": [
  {
   "cell_type": "code",
   "execution_count": 4,
   "metadata": {},
   "outputs": [],
   "source": [
    "import numpy as np\n",
    "import os\n",
    "from moviepy.editor import *\n",
    "import torch\n",
    "from pathlib import Path"
   ]
  },
  {
   "cell_type": "code",
   "execution_count": 1,
   "metadata": {},
   "outputs": [
    {
     "ename": "NameError",
     "evalue": "name 'Path' is not defined",
     "output_type": "error",
     "traceback": [
      "\u001b[0;31m---------------------------------------------------------------------------\u001b[0m",
      "\u001b[0;31mNameError\u001b[0m                                 Traceback (most recent call last)",
      "\u001b[0;32m<ipython-input-1-4139c0f3e4eb>\u001b[0m in \u001b[0;36m<module>\u001b[0;34m\u001b[0m\n\u001b[0;32m----> 1\u001b[0;31m \u001b[0;32mfor\u001b[0m \u001b[0mpath\u001b[0m \u001b[0;32min\u001b[0m \u001b[0mPath\u001b[0m\u001b[0;34m(\u001b[0m\u001b[0;34m'/data/ml_workshop_processed'\u001b[0m\u001b[0;34m)\u001b[0m\u001b[0;34m.\u001b[0m\u001b[0mglob\u001b[0m\u001b[0;34m(\u001b[0m\u001b[0;34m'**/*.mp4'\u001b[0m\u001b[0;34m)\u001b[0m\u001b[0;34m:\u001b[0m\u001b[0;34m\u001b[0m\u001b[0m\n\u001b[0m\u001b[1;32m      2\u001b[0m     \u001b[0mprint\u001b[0m\u001b[0;34m(\u001b[0m\u001b[0mpath\u001b[0m\u001b[0;34m)\u001b[0m\u001b[0;34m\u001b[0m\u001b[0m\n\u001b[1;32m      3\u001b[0m     \u001b[0mpath_str\u001b[0m \u001b[0;34m=\u001b[0m \u001b[0mstr\u001b[0m\u001b[0;34m(\u001b[0m\u001b[0mpath\u001b[0m\u001b[0;34m)\u001b[0m\u001b[0;34m\u001b[0m\u001b[0m\n\u001b[1;32m      4\u001b[0m     \u001b[0moutput_path\u001b[0m \u001b[0;34m=\u001b[0m \u001b[0;34m'/'\u001b[0m\u001b[0;34m.\u001b[0m\u001b[0mjoin\u001b[0m\u001b[0;34m(\u001b[0m\u001b[0mpath_str\u001b[0m\u001b[0;34m.\u001b[0m\u001b[0msplit\u001b[0m\u001b[0;34m(\u001b[0m\u001b[0;34m'/'\u001b[0m\u001b[0;34m)\u001b[0m\u001b[0;34m[\u001b[0m\u001b[0;34m:\u001b[0m\u001b[0;34m-\u001b[0m\u001b[0;36m1\u001b[0m\u001b[0;34m]\u001b[0m\u001b[0;34m)\u001b[0m \u001b[0;34m+\u001b[0m \u001b[0;34m'/audio.pth'\u001b[0m\u001b[0;34m\u001b[0m\u001b[0m\n\u001b[1;32m      5\u001b[0m \u001b[0;34m\u001b[0m\u001b[0m\n",
      "\u001b[0;31mNameError\u001b[0m: name 'Path' is not defined"
     ]
    }
   ],
   "source": [
    "for path in Path('/data/ml_workshop_processed').glob('**/*.mp4'):\n",
    "    print(path)\n",
    "    path_str = str(path)\n",
    "    output_path = '/'.join(path_str.split('/')[:-1]) + '/audio.pth'\n",
    "    \n",
    "    if not os.path.exists(output_path):\n",
    "        video = VideoFileClip(path_str)\n",
    "        audio = video.audio\n",
    "        duration = video.duration # == audio.duration, presented in seconds, float\n",
    "        #note video.fps != audio.fps\n",
    "        step = 1/audio.fps\n",
    "\n",
    "        audio_frames = []\n",
    "\n",
    "        for t in range(int(duration / step)): # runs through audio/video frames obtaining them by timestamp with step 100 msec\n",
    "            t = t * step\n",
    "            if t > audio.duration or t > video.duration: break\n",
    "            audio_frame = audio.get_frame(t) #numpy array representing mono/stereo values\n",
    "            #video_frame = video.get_frame(t) #numpy array representing RGB/gray frame\n",
    "            audio_frames.append(audio_frame)\n",
    "\n",
    "        np_audio = np.stack(audio_frames)\n",
    "\n",
    "        SAMPLE_SIZE = 2048\n",
    "\n",
    "        result = []\n",
    "\n",
    "        for i in range(int(np_audio.shape[0]/SAMPLE_SIZE)):\n",
    "            sample = np_audio[i*SAMPLE_SIZE:(i+1)*SAMPLE_SIZE]\n",
    "            sample_fft = []\n",
    "            for ch in range(2):\n",
    "                sample_ch = sample[:,ch]\n",
    "                sample_ch_fft = np.fft.rfft(sample_ch)\n",
    "                sample_fft.append(np.abs(sample_ch_fft))\n",
    "            sample_fft = np.stack(sample_fft, 0)\n",
    "            result.append(sample_fft)\n",
    "\n",
    "        result = np.stack(result, 1)\n",
    "        print(result.shape)\n",
    "        result_tensor = torch.from_numpy(result)\n",
    "\n",
    "\n",
    "        print('saving to',output_path)\n",
    "        torch.save(result_tensor, output_path)"
   ]
  },
  {
   "cell_type": "code",
   "execution_count": null,
   "metadata": {},
   "outputs": [],
   "source": [
    "for path in Path('/data/ml_workshop_processed').glob('**/*.mp4'):\n",
    "    print(path)\n",
    "    path_str = str(path)\n",
    "    output_path = '/'.join(path_str.split('/')[:-1]) + '/audio.pth'\n",
    "    \n",
    "    if not os.path.exists(output_path):\n",
    "        video = VideoFileClip(path_str)\n",
    "        audio = video.audio\n",
    "        duration = video.duration # == audio.duration, presented in seconds, float\n",
    "        #note video.fps != audio.fps\n",
    "        step = 1/audio.fps\n",
    "\n",
    "        audio_frames = []\n",
    "\n",
    "        for t in range(int(duration / step)): # runs through audio/video frames obtaining them by timestamp with step 100 msec\n",
    "            t = t * step\n",
    "            if t > audio.duration or t > video.duration: break\n",
    "            audio_frame = audio.get_frame(t) #numpy array representing mono/stereo values\n",
    "            #video_frame = video.get_frame(t) #numpy array representing RGB/gray frame\n",
    "            audio_frames.append(audio_frame)\n",
    "\n",
    "        np_audio = np.stack(audio_frames)\n",
    "\n",
    "        SAMPLE_SIZE = 2048\n",
    "\n",
    "        result = []\n",
    "\n",
    "        for i in range(int(np_audio.shape[0]/SAMPLE_SIZE)):\n",
    "            sample = np_audio[i*SAMPLE_SIZE:(i+1)*SAMPLE_SIZE]\n",
    "            sample_fft = []\n",
    "            for ch in range(2):\n",
    "                sample_ch = sample[:,ch]\n",
    "                sample_ch_fft = np.fft.rfft(sample_ch)\n",
    "                sample_fft.append(np.abs(sample_ch_fft))\n",
    "            sample_fft = np.stack(sample_fft, 0)\n",
    "            result.append(sample_fft)\n",
    "\n",
    "        result = np.stack(result, 1)\n",
    "        print(result.shape)\n",
    "        result_tensor = torch.from_numpy(result)\n",
    "\n",
    "\n",
    "        print('saving to',output_path)\n",
    "        torch.save(result_tensor, output_path)"
   ]
  },
  {
   "cell_type": "code",
   "execution_count": 6,
   "metadata": {},
   "outputs": [
    {
     "data": {
      "text/plain": [
       "torch.Size([2, 2584, 1025])"
      ]
     },
     "execution_count": 6,
     "metadata": {},
     "output_type": "execute_result"
    }
   ],
   "source": [
    "result_tensor.size()"
   ]
  },
  {
   "cell_type": "code",
   "execution_count": 10,
   "metadata": {},
   "outputs": [
    {
     "data": {
      "text/plain": [
       "120.02"
      ]
     },
     "execution_count": 10,
     "metadata": {},
     "output_type": "execute_result"
    }
   ],
   "source": [
    "duration"
   ]
  },
  {
   "cell_type": "code",
   "execution_count": 11,
   "metadata": {},
   "outputs": [
    {
     "data": {
      "text/plain": [
       "25.0"
      ]
     },
     "execution_count": 11,
     "metadata": {},
     "output_type": "execute_result"
    }
   ],
   "source": [
    "video.fps"
   ]
  },
  {
   "cell_type": "code",
   "execution_count": 8,
   "metadata": {},
   "outputs": [
    {
     "data": {
      "text/plain": [
       "3000.5"
      ]
     },
     "execution_count": 8,
     "metadata": {},
     "output_type": "execute_result"
    }
   ],
   "source": [
    "duration * video.fps"
   ]
  },
  {
   "cell_type": "code",
   "execution_count": 9,
   "metadata": {},
   "outputs": [
    {
     "data": {
      "text/plain": [
       "PosixPath('/data/ml_workshop_processed/episode_4/Subject_9/6m/Parent/source.mp4')"
      ]
     },
     "execution_count": 9,
     "metadata": {},
     "output_type": "execute_result"
    }
   ],
   "source": [
    "path"
   ]
  }
 ],
 "metadata": {
  "kernelspec": {
   "display_name": "Python 3",
   "language": "python",
   "name": "python3"
  },
  "language_info": {
   "codemirror_mode": {
    "name": "ipython",
    "version": 3
   },
   "file_extension": ".py",
   "mimetype": "text/x-python",
   "name": "python",
   "nbconvert_exporter": "python",
   "pygments_lexer": "ipython3",
   "version": "3.7.0"
  }
 },
 "nbformat": 4,
 "nbformat_minor": 2
}
