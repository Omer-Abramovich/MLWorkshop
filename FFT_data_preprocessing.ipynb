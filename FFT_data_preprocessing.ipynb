{
 "cells": [
  {
   "cell_type": "code",
   "execution_count": 4,
   "metadata": {},
   "outputs": [],
   "source": [
    "import numpy as np\n",
    "import os\n",
    "from moviepy.editor import *\n",
    "import torch"
   ]
  },
  {
   "cell_type": "code",
   "execution_count": null,
   "metadata": {},
   "outputs": [
    {
     "name": "stdout",
     "output_type": "stream",
     "text": [
      "/data/ml_workshop_processed/episode_4/Subject_10/6m/Infant/source.mp4\n",
      "/data/ml_workshop_processed/episode_4/Subject_10/6m/Parent/source.mp4\n",
      "/data/ml_workshop_processed/episode_4/Subject_10/3m/Infant/source.mp4\n",
      "/data/ml_workshop_processed/episode_4/Subject_10/3m/Parent/source.mp4\n",
      "/data/ml_workshop_processed/episode_4/Subject_7/6m/Infant/source.mp4\n",
      "/data/ml_workshop_processed/episode_4/Subject_7/6m/Parent/source.mp4\n",
      "/data/ml_workshop_processed/episode_4/Subject_7/3m/Infant/source.mp4\n",
      "/data/ml_workshop_processed/episode_4/Subject_7/3m/Parent/source.mp4\n",
      "/data/ml_workshop_processed/episode_4/Subject_15/6m/Infant/source.mp4\n",
      "/data/ml_workshop_processed/episode_4/Subject_15/6m/Parent/source.mp4\n",
      "/data/ml_workshop_processed/episode_4/Subject_15/3m/Infant/source.mp4\n",
      "/data/ml_workshop_processed/episode_4/Subject_15/3m/Parent/source.mp4\n",
      "/data/ml_workshop_processed/episode_4/Subject_4/6m/Infant/source.mp4\n",
      "/data/ml_workshop_processed/episode_4/Subject_4/6m/Parent/source.mp4\n",
      "/data/ml_workshop_processed/episode_4/Subject_4/3m/Infant/source.mp4\n",
      "/data/ml_workshop_processed/episode_4/Subject_4/3m/Parent/source.mp4\n",
      "/data/ml_workshop_processed/episode_4/Subject_18/6m/Infant/source.mp4\n",
      "/data/ml_workshop_processed/episode_4/Subject_18/6m/Parent/source.mp4\n",
      "/data/ml_workshop_processed/episode_4/Subject_18/3m/Infant/source.mp4\n",
      "/data/ml_workshop_processed/episode_4/Subject_18/3m/Parent/source.mp4\n",
      "(2, 2585, 1025)\n",
      "saving to /data/ml_workshop_processed/episode_4/Subject_18/3m/Parent/audio.pth\n",
      "/data/ml_workshop_processed/episode_4/Subject_12/6m/Infant/source.mp4\n",
      "(2, 2891, 1025)\n",
      "saving to /data/ml_workshop_processed/episode_4/Subject_12/6m/Infant/audio.pth\n",
      "/data/ml_workshop_processed/episode_4/Subject_12/6m/Parent/source.mp4\n",
      "(2, 2891, 1025)\n",
      "saving to /data/ml_workshop_processed/episode_4/Subject_12/6m/Parent/audio.pth\n",
      "/data/ml_workshop_processed/episode_4/Subject_12/3m/Infant/source.mp4\n",
      "(2, 2585, 1025)\n",
      "saving to /data/ml_workshop_processed/episode_4/Subject_12/3m/Infant/audio.pth\n",
      "/data/ml_workshop_processed/episode_4/Subject_12/3m/Parent/source.mp4\n",
      "(2, 2585, 1025)\n",
      "saving to /data/ml_workshop_processed/episode_4/Subject_12/3m/Parent/audio.pth\n",
      "/data/ml_workshop_processed/episode_4/Subject_14/6m/Infant/source.mp4\n",
      "(2, 2585, 1025)\n",
      "saving to /data/ml_workshop_processed/episode_4/Subject_14/6m/Infant/audio.pth\n",
      "/data/ml_workshop_processed/episode_4/Subject_14/6m/Parent/source.mp4\n",
      "(2, 2585, 1025)\n",
      "saving to /data/ml_workshop_processed/episode_4/Subject_14/6m/Parent/audio.pth\n",
      "/data/ml_workshop_processed/episode_4/Subject_14/3m/Infant/source.mp4\n",
      "(2, 2585, 1025)\n",
      "saving to /data/ml_workshop_processed/episode_4/Subject_14/3m/Infant/audio.pth\n",
      "/data/ml_workshop_processed/episode_4/Subject_14/3m/Parent/source.mp4\n",
      "(2, 2585, 1025)\n",
      "saving to /data/ml_workshop_processed/episode_4/Subject_14/3m/Parent/audio.pth\n",
      "/data/ml_workshop_processed/episode_4/Subject_3/6m/Infant/source.mp4\n",
      "(2, 2605, 1025)\n",
      "saving to /data/ml_workshop_processed/episode_4/Subject_3/6m/Infant/audio.pth\n",
      "/data/ml_workshop_processed/episode_4/Subject_3/6m/Parent/source.mp4\n",
      "(2, 2605, 1025)\n",
      "saving to /data/ml_workshop_processed/episode_4/Subject_3/6m/Parent/audio.pth\n",
      "/data/ml_workshop_processed/episode_4/Subject_3/3m/Infant/source.mp4\n",
      "(2, 2585, 1025)\n",
      "saving to /data/ml_workshop_processed/episode_4/Subject_3/3m/Infant/audio.pth\n",
      "/data/ml_workshop_processed/episode_4/Subject_3/3m/Parent/source.mp4\n",
      "(2, 2585, 1025)\n",
      "saving to /data/ml_workshop_processed/episode_4/Subject_3/3m/Parent/audio.pth\n",
      "/data/ml_workshop_processed/episode_4/Subject_13/6m/Infant/source.mp4\n",
      "(2, 2885, 1025)\n",
      "saving to /data/ml_workshop_processed/episode_4/Subject_13/6m/Infant/audio.pth\n",
      "/data/ml_workshop_processed/episode_4/Subject_13/6m/Parent/source.mp4\n",
      "(2, 2885, 1025)\n",
      "saving to /data/ml_workshop_processed/episode_4/Subject_13/6m/Parent/audio.pth\n",
      "/data/ml_workshop_processed/episode_4/Subject_13/3m/Infant/source.mp4\n",
      "(2, 2585, 1025)\n",
      "saving to /data/ml_workshop_processed/episode_4/Subject_13/3m/Infant/audio.pth\n",
      "/data/ml_workshop_processed/episode_4/Subject_13/3m/Parent/source.mp4\n",
      "(2, 2585, 1025)\n",
      "saving to /data/ml_workshop_processed/episode_4/Subject_13/3m/Parent/audio.pth\n",
      "/data/ml_workshop_processed/episode_4/Subject_2/6m/Infant/source.mp4\n",
      "(2, 2585, 1025)\n",
      "saving to /data/ml_workshop_processed/episode_4/Subject_2/6m/Infant/audio.pth\n",
      "/data/ml_workshop_processed/episode_4/Subject_2/6m/Parent/source.mp4\n",
      "(2, 2585, 1025)\n",
      "saving to /data/ml_workshop_processed/episode_4/Subject_2/6m/Parent/audio.pth\n",
      "/data/ml_workshop_processed/episode_4/Subject_2/3m/Infant/source.mp4\n",
      "(2, 2585, 1025)\n",
      "saving to /data/ml_workshop_processed/episode_4/Subject_2/3m/Infant/audio.pth\n",
      "/data/ml_workshop_processed/episode_4/Subject_2/3m/Parent/source.mp4\n",
      "(2, 2585, 1025)\n",
      "saving to /data/ml_workshop_processed/episode_4/Subject_2/3m/Parent/audio.pth\n",
      "/data/ml_workshop_processed/episode_4/Subject_20/6m/Infant/source.mp4\n",
      "(2, 2584, 1025)\n",
      "saving to /data/ml_workshop_processed/episode_4/Subject_20/6m/Infant/audio.pth\n",
      "/data/ml_workshop_processed/episode_4/Subject_20/6m/Parent/source.mp4\n",
      "(2, 2584, 1025)\n",
      "saving to /data/ml_workshop_processed/episode_4/Subject_20/6m/Parent/audio.pth\n",
      "/data/ml_workshop_processed/episode_4/Subject_20/3m/Infant/source.mp4\n",
      "(2, 2585, 1025)\n",
      "saving to /data/ml_workshop_processed/episode_4/Subject_20/3m/Infant/audio.pth\n",
      "/data/ml_workshop_processed/episode_4/Subject_20/3m/Parent/source.mp4\n",
      "(2, 2585, 1025)\n",
      "saving to /data/ml_workshop_processed/episode_4/Subject_20/3m/Parent/audio.pth\n",
      "/data/ml_workshop_processed/episode_4/Subject_5/6m/Infant/source.mp4\n",
      "(2, 2585, 1025)\n",
      "saving to /data/ml_workshop_processed/episode_4/Subject_5/6m/Infant/audio.pth\n",
      "/data/ml_workshop_processed/episode_4/Subject_5/6m/Parent/source.mp4\n",
      "(2, 2585, 1025)\n",
      "saving to /data/ml_workshop_processed/episode_4/Subject_5/6m/Parent/audio.pth\n",
      "/data/ml_workshop_processed/episode_4/Subject_5/3m/Infant/source.mp4\n",
      "(2, 2584, 1025)\n",
      "saving to /data/ml_workshop_processed/episode_4/Subject_5/3m/Infant/audio.pth\n",
      "/data/ml_workshop_processed/episode_4/Subject_5/3m/Parent/source.mp4\n",
      "(2, 2584, 1025)\n",
      "saving to /data/ml_workshop_processed/episode_4/Subject_5/3m/Parent/audio.pth\n",
      "/data/ml_workshop_processed/episode_4/Subject_8/6m/Infant/source.mp4\n",
      "(2, 2585, 1025)\n",
      "saving to /data/ml_workshop_processed/episode_4/Subject_8/6m/Infant/audio.pth\n",
      "/data/ml_workshop_processed/episode_4/Subject_8/6m/Parent/source.mp4\n",
      "(2, 2585, 1025)\n",
      "saving to /data/ml_workshop_processed/episode_4/Subject_8/6m/Parent/audio.pth\n",
      "/data/ml_workshop_processed/episode_4/Subject_8/3m/Infant/source.mp4\n",
      "(2, 2585, 1025)\n",
      "saving to /data/ml_workshop_processed/episode_4/Subject_8/3m/Infant/audio.pth\n",
      "/data/ml_workshop_processed/episode_4/Subject_8/3m/Parent/source.mp4\n",
      "(2, 2585, 1025)\n",
      "saving to /data/ml_workshop_processed/episode_4/Subject_8/3m/Parent/audio.pth\n",
      "/data/ml_workshop_processed/episode_4/Subject_19/6m/Infant/source.mp4\n",
      "(2, 2594, 1025)\n",
      "saving to /data/ml_workshop_processed/episode_4/Subject_19/6m/Infant/audio.pth\n",
      "/data/ml_workshop_processed/episode_4/Subject_19/6m/Parent/source.mp4\n",
      "(2, 2594, 1025)\n",
      "saving to /data/ml_workshop_processed/episode_4/Subject_19/6m/Parent/audio.pth\n",
      "/data/ml_workshop_processed/episode_4/Subject_19/3m/Infant/source.mp4\n",
      "(2, 2585, 1025)\n",
      "saving to /data/ml_workshop_processed/episode_4/Subject_19/3m/Infant/audio.pth\n",
      "/data/ml_workshop_processed/episode_4/Subject_19/3m/Parent/source.mp4\n",
      "(2, 2585, 1025)\n",
      "saving to /data/ml_workshop_processed/episode_4/Subject_19/3m/Parent/audio.pth\n",
      "/data/ml_workshop_processed/episode_4/Subject_11/6m/Infant/source.mp4\n",
      "(2, 2584, 1025)\n",
      "saving to /data/ml_workshop_processed/episode_4/Subject_11/6m/Infant/audio.pth\n",
      "/data/ml_workshop_processed/episode_4/Subject_11/6m/Parent/source.mp4\n",
      "(2, 2584, 1025)\n",
      "saving to /data/ml_workshop_processed/episode_4/Subject_11/6m/Parent/audio.pth\n",
      "/data/ml_workshop_processed/episode_4/Subject_11/3m/Infant/source.mp4\n",
      "(2, 2585, 1025)\n",
      "saving to /data/ml_workshop_processed/episode_4/Subject_11/3m/Infant/audio.pth\n",
      "/data/ml_workshop_processed/episode_4/Subject_11/3m/Parent/source.mp4\n",
      "(2, 2584, 1025)\n",
      "saving to /data/ml_workshop_processed/episode_4/Subject_1/6m/Infant/audio.pth\n",
      "/data/ml_workshop_processed/episode_4/Subject_1/6m/Infant/source.mp4\n",
      "/data/ml_workshop_processed/episode_4/Subject_1/6m/Parent/source.mp4\n",
      "(2, 2584, 1025)\n",
      "saving to /data/ml_workshop_processed/episode_4/Subject_1/6m/Parent/audio.pth\n",
      "/data/ml_workshop_processed/episode_4/Subject_1/6m/Parent/sub 611 6m ep4 - adult.mp4\n",
      "/data/ml_workshop_processed/episode_4/Subject_1/3m/Infant/sub 611 3m ep4 - infant.mp4\n",
      "(2, 2586, 1025)\n",
      "saving to /data/ml_workshop_processed/episode_4/Subject_1/3m/Infant/audio.pth\n",
      "/data/ml_workshop_processed/episode_4/Subject_1/3m/Infant/source.mp4\n",
      "/data/ml_workshop_processed/episode_4/Subject_1/3m/Parent/sub 611 3m ep4 - adult.mp4\n",
      "(2, 2586, 1025)\n",
      "saving to /data/ml_workshop_processed/episode_4/Subject_1/3m/Parent/audio.pth\n",
      "/data/ml_workshop_processed/episode_4/Subject_1/3m/Parent/source.mp4\n",
      "/data/ml_workshop_processed/episode_4/Subject_17/6m/Infant/source.mp4\n",
      "(2, 2585, 1025)\n",
      "saving to /data/ml_workshop_processed/episode_4/Subject_17/6m/Infant/audio.pth\n",
      "/data/ml_workshop_processed/episode_4/Subject_17/6m/Parent/source.mp4\n",
      "(2, 2585, 1025)\n",
      "saving to /data/ml_workshop_processed/episode_4/Subject_17/6m/Parent/audio.pth\n",
      "/data/ml_workshop_processed/episode_4/Subject_17/3m/Infant/source.mp4\n",
      "(2, 2585, 1025)\n",
      "saving to /data/ml_workshop_processed/episode_4/Subject_17/3m/Infant/audio.pth\n",
      "/data/ml_workshop_processed/episode_4/Subject_17/3m/Parent/source.mp4\n",
      "(2, 2585, 1025)\n",
      "saving to /data/ml_workshop_processed/episode_4/Subject_17/3m/Parent/audio.pth\n",
      "/data/ml_workshop_processed/episode_4/Subject_6/6m/Infant/source.mp4\n",
      "(2, 2585, 1025)\n",
      "saving to /data/ml_workshop_processed/episode_4/Subject_6/6m/Infant/audio.pth\n",
      "/data/ml_workshop_processed/episode_4/Subject_6/6m/Parent/source.mp4\n",
      "(2, 2585, 1025)\n",
      "saving to /data/ml_workshop_processed/episode_4/Subject_6/6m/Parent/audio.pth\n",
      "/data/ml_workshop_processed/episode_4/Subject_6/3m/Infant/source.mp4\n",
      "(2, 2602, 1025)\n",
      "saving to /data/ml_workshop_processed/episode_4/Subject_6/3m/Infant/audio.pth\n",
      "/data/ml_workshop_processed/episode_4/Subject_6/3m/Parent/source.mp4\n",
      "(2, 2602, 1025)\n",
      "saving to /data/ml_workshop_processed/episode_4/Subject_6/3m/Parent/audio.pth\n",
      "/data/ml_workshop_processed/episode_4/Subject_16/6m/Infant/source.mp4\n"
     ]
    }
   ],
   "source": [
    "from pathlib import Path\n",
    "\n",
    "for path in Path('/data/ml_workshop_processed').glob('**/*.mp4'):\n",
    "    print(path)\n",
    "    path_str = str(path)\n",
    "    output_path = '/'.join(path_str.split('/')[:-1]) + '/audio.pth'\n",
    "    \n",
    "    if not os.path.exists(output_path):\n",
    "        video = VideoFileClip(path_str)\n",
    "        audio = video.audio\n",
    "        duration = video.duration # == audio.duration, presented in seconds, float\n",
    "        #note video.fps != audio.fps\n",
    "        step = 1/audio.fps\n",
    "\n",
    "        audio_frames = []\n",
    "\n",
    "        for t in range(int(duration / step)): # runs through audio/video frames obtaining them by timestamp with step 100 msec\n",
    "            t = t * step\n",
    "            if t > audio.duration or t > video.duration: break\n",
    "            audio_frame = audio.get_frame(t) #numpy array representing mono/stereo values\n",
    "            #video_frame = video.get_frame(t) #numpy array representing RGB/gray frame\n",
    "            audio_frames.append(audio_frame)\n",
    "\n",
    "        np_audio = np.stack(audio_frames)\n",
    "\n",
    "        SAMPLE_SIZE = 2048\n",
    "\n",
    "        result = []\n",
    "\n",
    "        for i in range(int(np_audio.shape[0]/SAMPLE_SIZE)):\n",
    "            sample = np_audio[i*SAMPLE_SIZE:(i+1)*SAMPLE_SIZE]\n",
    "            sample_fft = []\n",
    "            for ch in range(2):\n",
    "                sample_ch = sample[:,ch]\n",
    "                sample_ch_fft = np.fft.rfft(sample_ch)\n",
    "                sample_fft.append(np.abs(sample_ch_fft))\n",
    "            sample_fft = np.stack(sample_fft, 0)\n",
    "            result.append(sample_fft)\n",
    "\n",
    "        result = np.stack(result, 1)\n",
    "        print(result.shape)\n",
    "        result_tensor = torch.from_numpy(result)\n",
    "\n",
    "\n",
    "        print('saving to',output_path)\n",
    "        torch.save(result_tensor, output_path)"
   ]
  },
  {
   "cell_type": "code",
   "execution_count": null,
   "metadata": {},
   "outputs": [],
   "source": [
    "from pathlib import Path\n",
    "\n",
    "for path in Path('/data/ml_workshop_processed').glob('**/*.mp4'):\n",
    "    print(path)\n",
    "    path_str = str(path)\n",
    "    output_path = '/'.join(path_str.split('/')[:-1]) + '/audio.pth'\n",
    "    \n",
    "    if not os.path.exists(output_path):\n",
    "        video = VideoFileClip(path_str)\n",
    "        audio = video.audio\n",
    "        duration = video.duration # == audio.duration, presented in seconds, float\n",
    "        #note video.fps != audio.fps\n",
    "        step = 1/audio.fps\n",
    "\n",
    "        audio_frames = []\n",
    "\n",
    "        for t in range(int(duration / step)): # runs through audio/video frames obtaining them by timestamp with step 100 msec\n",
    "            t = t * step\n",
    "            if t > audio.duration or t > video.duration: break\n",
    "            audio_frame = audio.get_frame(t) #numpy array representing mono/stereo values\n",
    "            #video_frame = video.get_frame(t) #numpy array representing RGB/gray frame\n",
    "            audio_frames.append(audio_frame)\n",
    "\n",
    "        np_audio = np.stack(audio_frames)\n",
    "\n",
    "        SAMPLE_SIZE = 2048\n",
    "\n",
    "        result = []\n",
    "\n",
    "        for i in range(int(np_audio.shape[0]/SAMPLE_SIZE)):\n",
    "            sample = np_audio[i*SAMPLE_SIZE:(i+1)*SAMPLE_SIZE]\n",
    "            sample_fft = []\n",
    "            for ch in range(2):\n",
    "                sample_ch = sample[:,ch]\n",
    "                sample_ch_fft = np.fft.rfft(sample_ch)\n",
    "                sample_fft.append(np.abs(sample_ch_fft))\n",
    "            sample_fft = np.stack(sample_fft, 0)\n",
    "            result.append(sample_fft)\n",
    "\n",
    "        result = np.stack(result, 1)\n",
    "        print(result.shape)\n",
    "        result_tensor = torch.from_numpy(result)\n",
    "\n",
    "\n",
    "        print('saving to',output_path)\n",
    "        torch.save(result_tensor, output_path)"
   ]
  },
  {
   "cell_type": "code",
   "execution_count": 6,
   "metadata": {},
   "outputs": [
    {
     "data": {
      "text/plain": [
       "torch.Size([2, 2584, 1025])"
      ]
     },
     "execution_count": 6,
     "metadata": {},
     "output_type": "execute_result"
    }
   ],
   "source": [
    "result_tensor.size()"
   ]
  },
  {
   "cell_type": "code",
   "execution_count": 10,
   "metadata": {},
   "outputs": [
    {
     "data": {
      "text/plain": [
       "120.02"
      ]
     },
     "execution_count": 10,
     "metadata": {},
     "output_type": "execute_result"
    }
   ],
   "source": [
    "duration"
   ]
  },
  {
   "cell_type": "code",
   "execution_count": 11,
   "metadata": {},
   "outputs": [
    {
     "data": {
      "text/plain": [
       "25.0"
      ]
     },
     "execution_count": 11,
     "metadata": {},
     "output_type": "execute_result"
    }
   ],
   "source": [
    "video.fps"
   ]
  },
  {
   "cell_type": "code",
   "execution_count": 8,
   "metadata": {},
   "outputs": [
    {
     "data": {
      "text/plain": [
       "3000.5"
      ]
     },
     "execution_count": 8,
     "metadata": {},
     "output_type": "execute_result"
    }
   ],
   "source": [
    "duration * video.fps"
   ]
  },
  {
   "cell_type": "code",
   "execution_count": 9,
   "metadata": {},
   "outputs": [
    {
     "data": {
      "text/plain": [
       "PosixPath('/data/ml_workshop_processed/episode_4/Subject_9/6m/Parent/source.mp4')"
      ]
     },
     "execution_count": 9,
     "metadata": {},
     "output_type": "execute_result"
    }
   ],
   "source": [
    "path"
   ]
  }
 ],
 "metadata": {
  "kernelspec": {
   "display_name": "Python 3",
   "language": "python",
   "name": "python3"
  },
  "language_info": {
   "codemirror_mode": {
    "name": "ipython",
    "version": 3
   },
   "file_extension": ".py",
   "mimetype": "text/x-python",
   "name": "python",
   "nbconvert_exporter": "python",
   "pygments_lexer": "ipython3",
   "version": "3.7.0"
  }
 },
 "nbformat": 4,
 "nbformat_minor": 2
}
