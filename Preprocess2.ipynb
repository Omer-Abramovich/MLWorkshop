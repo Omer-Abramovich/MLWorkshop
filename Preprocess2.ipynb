{
 "cells": [
  {
   "cell_type": "code",
   "execution_count": 2,
   "metadata": {},
   "outputs": [],
   "source": [
    "# Preprocess data 2\n",
    "import os\n",
    "import sys\n",
    "import math\n",
    "import time\n",
    "import copy\n",
    "from pathlib import Path\n",
    "\n",
    "import moviepy.editor\n",
    "import numpy as np\n",
    "from PIL import Image\n",
    "\n",
    "import torch\n",
    "import torch.nn as nn\n",
    "import torch.optim as optim\n",
    "from torch.optim import lr_scheduler\n",
    "\n",
    "from torchvision import datasets, models, transforms\n",
    "import torchvision.transforms as transforms\n",
    "\n",
    "import torchvision\n",
    "\n",
    "import matplotlib.pyplot as plt\n",
    "\n",
    "import argparse\n",
    "\n",
    "%load_ext snakeviz"
   ]
  },
  {
   "cell_type": "code",
   "execution_count": 5,
   "metadata": {},
   "outputs": [
    {
     "name": "stderr",
     "output_type": "stream",
     "text": [
      "chunk:   2%|▏         | 44/2648 [00:00<00:06, 431.61it/s, now=None]"
     ]
    },
    {
     "name": "stdout",
     "output_type": "stream",
     "text": [
      "Moviepy - Building video /mnt/data/ml_workshop_processed/episode_4/Subject_18/6m/Infant/resized.mp4.\n",
      "MoviePy - Writing audio in %s\n"
     ]
    },
    {
     "name": "stderr",
     "output_type": "stream",
     "text": [
      "t:   0%|          | 4/3002 [00:00<01:31, 32.84it/s, now=None]"
     ]
    },
    {
     "name": "stdout",
     "output_type": "stream",
     "text": [
      "MoviePy - Done.\n",
      "Moviepy - Writing video /mnt/data/ml_workshop_processed/episode_4/Subject_18/6m/Infant/resized.mp4\n",
      "\n"
     ]
    },
    {
     "name": "stderr",
     "output_type": "stream",
     "text": []
    },
    {
     "name": "stdout",
     "output_type": "stream",
     "text": [
      "Moviepy - Done !\n",
      "Moviepy - video ready /mnt/data/ml_workshop_processed/episode_4/Subject_18/6m/Infant/resized.mp4\n"
     ]
    }
   ],
   "source": [
    "path_str = '/mnt/data/ml_workshop_processed/episode_4/Subject_18/6m/Infant/source.mp4'\n",
    "target_path = '/'.join(path_str.split('/')[:-1]) + '/resized.mp4'\n",
    "\n",
    "video = moviepy.editor.VideoFileClip(path_str)\n",
    "clip_resized = video.resize(height=256) # make the height 360px ( According to moviePy documenation The width is then computed so that the width/height ratio is conserved.)\n",
    "clip_resized.write_videofile(target_path)"
   ]
  },
  {
   "cell_type": "code",
   "execution_count": null,
   "metadata": {},
   "outputs": [],
   "source": []
  }
 ],
 "metadata": {
  "kernelspec": {
   "display_name": "Python 3",
   "language": "python",
   "name": "python3"
  },
  "language_info": {
   "codemirror_mode": {
    "name": "ipython",
    "version": 3
   },
   "file_extension": ".py",
   "mimetype": "text/x-python",
   "name": "python",
   "nbconvert_exporter": "python",
   "pygments_lexer": "ipython3",
   "version": "3.7.3"
  }
 },
 "nbformat": 4,
 "nbformat_minor": 2
}
